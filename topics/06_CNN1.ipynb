{
 "cells": [
  {
   "cell_type": "markdown",
   "metadata": {
    "colab_type": "text",
    "id": "4gTnFnzrOLPb"
   },
   "source": [
    "# An Introduction to Convolutional Neural Networks\n",
    "\n",
    "\n",
    "We’ll build on a basic background knowledge of neural networks and <b>explore what CNNs are, understand how they work, and build a real one from scratch</b> (using only numpy) in Python."
   ]
  },
  {
   "cell_type": "markdown",
   "metadata": {
    "colab_type": "text",
    "id": "VG8Uw2z-I9aa"
   },
   "source": [
    "##1. Motivation\n",
    "\n",
    "A classic use case of CNNs is to perform image classification, e.g. looking at an image of a pet and deciding whether it’s a cat or a dog. It’s a seemingly simple task - <b>why not just use a normal Neural Network?</b>\n",
    "\n",
    "### Reason 1: Images are Big\n",
    "\n",
    "Images used for Computer Vision problems nowadays are often 224x224 or larger. Imagine building a neural network to process 224x224 color images: including the 3 color channels (RGB) in the image, that comes out to 224 x 224 x 3 = <b>150,528</b> input features! A typical hidden layer in such a network might have 1024 nodes, so we’d have to train 150,528 x 1024 = <b>150+ million weights for the first layer alone</b>. Our network would be huge and nearly impossible to train.\n",
    "\n",
    "</br>\n",
    "\n",
    "It’s not like we need that many weights, either. The nice thing about images is that we know <b>pixels are most useful in the context of their neighbors</b>. Objects in images are made up of small, localized features, like the circular iris of an eye or the square corner of a piece of paper. Doesn’t it seem wasteful for every node in the first hidden layer to look at every pixel?\n",
    "\n",
    "### Reason 2: Positions can change\n",
    "\n",
    "If you trained a network to detect dogs, you’d want it to be able to a detect a dog regardless of where it appears in the image. Imagine training a network that works well on a certain dog image, but then feeding it a slightly shifted version of the same image. The dog would not activate the same neurons, so <b>the network would react completely differently!</b>\n",
    "\n",
    "</br>\n",
    "\n",
    "We’ll see soon how a CNN can help us mitigate these problems.\n",
    "\n",
    "## 2. Dataset\n",
    "\n",
    "In this notebook, we’ll tackle the “Hello, World!” of Computer Vision: the <b>MNIST</b> handwritten digit classification problem. It’s simple: given an image, classify it as a digit.\n",
    "\n",
    "</br>\n",
    "\n",
    "![Sample_MNIST_dataset](./img/Sample_MNIST_dataset.png)\n",
    "\n",
    "</br>\n",
    "\n",
    "Each image in the MNIST dataset is 28x28 and contains a centered, grayscale digit.\n",
    "\n",
    "</br>\n",
    "\n",
    "Truth be told, a normal neural network would actually work just fine for this problem. You could treat each image as a 28 x 28 = 784-dimensional vector, feed that to a 784-dim input layer, stack a few hidden layers, and finish with an output layer of 10 nodes, 1 for each digit.\n",
    "\n",
    "</br>\n",
    "\n",
    "This would only work because the MNIST dataset contains <b>small</b> images that are <b>centered</b>, so we wouldn’t run into the aforementioned issues of size or shifting. Keep in mind throughout the course of this post, however, that <b>most real-world image classification problems aren’t this easy.</b>\n",
    "\n"
   ]
  },
  {
   "cell_type": "markdown",
   "metadata": {
    "colab_type": "text",
    "id": "7lAjmuXANXAj"
   },
   "source": [
    "## 3. Convolutions\n",
    "\n",
    "What are Convolutional Neural Networks?\n",
    "\n",
    "</br>\n",
    "\n",
    "They’re basically just neural networks that use <b>Convolutional layers</b>, a.k.a. Conv layers, which are based on the mathematical operation of <b>convolution</b>. Conv layers consist of a set of <b>filters</b>, which you can think of as just 2d matrices of numbers. Here’s an example 3x3 filter:\n",
    "\n",
    "</br>\n",
    "\n",
    "![A_3x3_filter](./img/A_3x3_filter.png)\n",
    "\n",
    "</br>\n",
    "\n",
    "We can use an input image and a filter to produce an output image by <b>convolving</b> the filter with the input image. This consists of\n",
    "\n",
    "\n",
    "1.   Overlaying the filter on top of the image at some location.\n",
    "2.   Performing <b>element-wise multiplication</b> between the values in the filter and their corresponding values in the image.\n",
    "3.   Summing up all the element-wise products. This sum is the output value for the <b>destination pixel</b> in the output image.\n",
    "4.   Repeating for all locations.\n",
    "\n",
    "<i>Side Note: We (along with many CNN implementations) are technically actually using cross-correlation instead of convolution here, but they do almost the same thing. I won’t go into the difference in this post because it’s not that important, but feel free to look this up if you’re curious.</i>\n",
    "\n",
    "</br>\n",
    "\n",
    "That 4-step description was a little abstract, so let’s do an example. Consider this tiny 4x4 grayscale image and this 3x3 filter:\n",
    "\n",
    "</br>\n",
    "\n",
    "![A4x4image_and_3x3filter](./img/A4x4image_and_3x3filter.png)\n",
    "\n",
    "</br>\n",
    "\n",
    "The numbers in the image represent pixel intensities, where 0 is black and 255 is white. We’ll convolve the input image and the filter to produce a 2x2 output image:\n",
    "\n",
    "</br>\n",
    "\n",
    "![A2x2output_image](./img/A2x2output_image.png)\n",
    "\n",
    "</br>\n",
    "\n",
    "To start, lets overlay our filter in the top left corner of the image:\n",
    "\n",
    "</br>\n",
    "\n",
    "![Step1](./img/Step1.png)\n",
    "\n",
    "</br>\n",
    "\n",
    "Next, we perform element-wise multiplication between the overlapping image values and filter values. Here are the results, starting from the top left corner and going right, then down:\n",
    "\n",
    "</br>\n",
    "\n",
    "![Step2](./img/Step2.png)\n",
    "\n",
    "</br>\n",
    "\n",
    "Next, we sum up all the results. That’s easy enough:\n",
    "\n",
    "$62 - 33 = 29$\n",
    " \n",
    "Finally, we place our result in the destination pixel of our output image. Since our filter is overlayed in the top left corner of the input image, our destination pixel is the top left pixel of the output image:\n",
    "\n",
    "</br>\n",
    "\n",
    "![top_left_overlayed_filter](./img/top_left_overlayed_filter.png)\n",
    "\n",
    "</br>\n",
    "\n",
    "We do the same thing to generate the rest of the output image:\n",
    "\n",
    "</br>\n",
    "\n",
    "![overlayed_filter](./img/overlayed_filter.png)"
   ]
  },
  {
   "cell_type": "markdown",
   "metadata": {
    "colab_type": "text",
    "id": "KmQcOgJEVU62"
   },
   "source": [
    "### 3.1 How is this useful?\n",
    "\n",
    "Let’s zoom out for a second and see this at a higher level. What does convolving an image with a filter do? We can start by using the example 3x3 filter we’ve been using, which is commonly known as the vertical Sobel filter:\n",
    "\n",
    "</br>\n",
    "\n",
    "![VerticalSobelFilter](./img/VerticalSobelFilter.png)\n",
    "\n",
    "</br>\n",
    "\n",
    "Here’s an example of what the vertical Sobel filter does:\n",
    "\n",
    "</br>\n",
    "\n",
    "![An_image_convolved_vertical_Sobel_filter](./img/An_image_convolved_vertical_Sobel_filter.png)\n",
    "\n",
    "</br>\n",
    "\n",
    "Similarly, there’s also a horizontal Sobel filter:\n",
    "\n",
    "</br>\n",
    "\n",
    "![HorizontalSobelFilter](./img/HorizontalSobelFilter.png)\n",
    "\n",
    "</br>\n",
    "\n",
    "![Image_covered_horizontal_Sobel_filter](./img/Image_covered_horizontal_Sobel_filter.png)\n",
    "\n",
    "</br>\n",
    "\n",
    "See what’s happening? <b>Sobel filters are edge-detectors.</b> The vertical Sobel filter detects vertical edges, and the horizontal Sobel filter detects horizontal edges. The output images are now easily interpreted: a bright pixel (one that has a high value) in the output image indicates that there’s a strong edge around there in the original image.\n",
    "\n",
    "</br>\n",
    "\n",
    "Can you see why an edge-detected image might be more useful than the raw image? Think back to our MNIST handwritten digit classification problem for a second. A CNN trained on MNIST might look for the digit 1, for example, by using an edge-detection filter and checking for two prominent vertical edges near the center of the image. In general, <b>convolution helps us look for specific localized image features</b> (like edges) that we can use later in the network."
   ]
  },
  {
   "cell_type": "markdown",
   "metadata": {
    "colab_type": "text",
    "id": "YdgARFwgXsB5"
   },
   "source": [
    "### 3.2 Padding\n",
    "\n",
    "Remember convolving a 4x4 input image with a 3x3 filter earlier to produce a 2x2 output image? Often times, we’d prefer to have the output image be the same size as the input image. To do this, we add zeros around the image so we can overlay the filter in more places. A 3x3 filter requires 1 pixel of padding:\n",
    "\n",
    "</br>\n",
    "\n",
    "![A4x4input_convolved_3x3filter_with_padding](./img/A4x4input_convolved_3x3filter_with_padding.png)\n",
    "\n",
    "</br>\n",
    "\n",
    "This is called “same” padding, since the input and output have the same dimensions. Not using any padding, which is what we’ve been doing and will continue to do for this post, is sometimes referred to as “valid” padding.\n",
    "\n",
    "### 3.3 Conv Layers\n",
    "\n",
    "Now that we know how image convolution works and why it’s useful, let’s see how it’s actually used in CNNs. As mentioned before, CNNs include <b>conv layers</b> that use a set of filters to turn input images into output images. A conv layer’s primary parameter is the <b>number of filters</b> it has.\n",
    "\n",
    "</br>\n",
    "\n",
    "For our MNIST CNN, we’ll use a small conv layer with 8 filters as the initial layer in our network. This means it’ll turn the 28x28 input image into a 26x26x8 output <b>volume</b>:\n",
    "\n",
    "</br>\n",
    "\n",
    "![conv_dimentions](./img/conv_dimentions.png)\n",
    "\n",
    "</br>\n",
    "\n",
    "<i>Reminder: The output is 26x26x8 and not 28x28x8 because we’re using valid padding, which decreases the input’s width and height by 2.</i>\n",
    "\n",
    "</br>\n",
    "\n",
    "Each of the 8 filters in the conv layer produces a 26x26 output, so stacked together they make up a 26x26x8 volume. All of this happens because of 3 \\times× 3 (filter size) \\times× 8 (number of filters) = <b>only 72 weights!</b>\n",
    "\n",
    "### 3.4 Implementing Convolution\n",
    "\n",
    "Time to put what we’ve learned into code! We’ll implement a conv layer’s feedforward portion, which takes care of convolving filters with an input image to produce an output volume. For simplicity, we’ll assume filters are always 3x3 (which is not true - 5x5 and 7x7 filters are also very common).\n",
    "\n",
    "\n",
    "</br>\n",
    "\n",
    "Let’s start implementing a conv layer class:"
   ]
  },
  {
   "cell_type": "code",
   "execution_count": 1,
   "metadata": {
    "colab": {},
    "colab_type": "code",
    "id": "FzdmR98gODZs"
   },
   "outputs": [],
   "source": [
    "import numpy as np\n",
    "\n",
    "class Conv3x3:\n",
    "    # A Convolution layer using 3x3 filters.\n",
    "\n",
    "    def __init__(self, num_filters):\n",
    "        self.num_filters = num_filters\n",
    "\n",
    "        # filters is a 3d array with dimensions (num_filters, 3, 3)\n",
    "        # We divide by 9 to reduce the variance of our initial values\n",
    "        self.filters = np.random.randn(num_filters, 3, 3) / 9\n",
    "        \n",
    "    def iterate_regions(self, image):\n",
    "        '''\n",
    "        Generates all possible 3x3 image regions using valid padding.\n",
    "        - image is a 2d numpy array\n",
    "        '''\n",
    "        h, w = image.shape\n",
    "\n",
    "        for i in range(h - 2):\n",
    "            for j in range(w - 2):\n",
    "                im_region = image[i:(i + 3), j:(j + 3)]\n",
    "                yield im_region, i, j\n",
    "\n",
    "    def forward(self, input):\n",
    "        '''\n",
    "        Performs a forward pass of the conv layer using the given input.\n",
    "        Returns a 3d numpy array with dimensions (h, w, num_filters).\n",
    "        - input is a 2d numpy array\n",
    "        '''\n",
    "        h, w = input.shape\n",
    "        output = np.zeros((h - 2, w - 2, self.num_filters))\n",
    "\n",
    "        for im_region, i, j in self.iterate_regions(input):\n",
    "            output[i, j] = np.sum(im_region * self.filters, axis=(1, 2))\n",
    "\n",
    "        return output"
   ]
  },
  {
   "cell_type": "markdown",
   "metadata": {
    "colab_type": "text",
    "id": "xNKKKKfLZtKm"
   },
   "source": [
    "The <b>Conv3x3</b> class takes only one argument: the number of filters. In the constructor, we store the number of filters and initialize a random filters array using NumPy’s <b>randn()</b> method.\n",
    "\n",
    "</br>\n",
    "\n",
    "<i>Note: Diving by 9 during the initialization is more important than you may think. If the initial values are too large or too small, training the network will be ineffective. To learn more, read about Xavier Initialization.</i>\n",
    "\n",
    "</br>\n",
    "\n",
    "<b>iterate_regions()</b> is a helper generator method that yields all valid 3x3 image regions for us. This will be useful for implementing the backwards portion of this class later on.\n",
    "\n",
    "</br>\n",
    "\n",
    "The line of code that actually performs the convolutions is highlighted above. Let’s break it down:\n",
    "\n",
    "* We have <i>im_region</i>, a 3x3 array containing the relevant image region.\n",
    "* We have <i>self.filters</i>, a 3d array.\n",
    "* We do <i>im_region * self.filters</i>, which uses numpy’s <b>broadcasting</b> feature to element-wise multiply the two arrays. The result is a 3d array with the same dimension as <i>self.filters.</i>\n",
    "* We <i>np.sum()</i> the result of the previous step using <i>axis=(1, 2)</i>, which produces a 1d array of length <i>num_filters</i> where each element contains the convolution result for the corresponding filter.\n",
    "* We assign the result to $output[i, j]$, which contains convolution results for pixel $(i, j)$ in the output.\n",
    "\n",
    "</br>\n",
    "\n",
    "The sequence above is performed for each pixel in the output until we obtain our final output volume! Let’s give our code a test run:"
   ]
  },
  {
   "cell_type": "code",
   "execution_count": 2,
   "metadata": {
    "colab": {
     "base_uri": "https://localhost:8080/",
     "height": 102
    },
    "colab_type": "code",
    "id": "8w0c5MMoPX6j",
    "outputId": "dc9f8db6-aafe-4aab-f2d4-7d0302f24827"
   },
   "outputs": [
    {
     "name": "stdout",
     "output_type": "stream",
     "text": [
      "Requirement already satisfied: mnist in /home/oleksandr/.virtualenvs/hlll_course/lib/python3.6/site-packages (0.2.2)\r\n",
      "Requirement already satisfied: numpy in /home/oleksandr/.virtualenvs/hlll_course/lib/python3.6/site-packages (from mnist) (1.17.0)\r\n"
     ]
    }
   ],
   "source": [
    "!pip install mnist"
   ]
  },
  {
   "cell_type": "code",
   "execution_count": 3,
   "metadata": {
    "colab": {
     "base_uri": "https://localhost:8080/",
     "height": 34
    },
    "colab_type": "code",
    "id": "004QOqc1PKp3",
    "outputId": "640c1d12-759b-42a6-a04b-f11a38107caa"
   },
   "outputs": [
    {
     "name": "stdout",
     "output_type": "stream",
     "text": [
      "(26, 26, 8)\n"
     ]
    }
   ],
   "source": [
    "import mnist\n",
    "\n",
    "# The mnist package handles the MNIST dataset for us!\n",
    "# Learn more at https://github.com/datapythonista/mnist\n",
    "train_images = mnist.train_images()\n",
    "train_labels = mnist.train_labels()\n",
    "\n",
    "conv = Conv3x3(8)\n",
    "output = conv.forward(train_images[0])\n",
    "print(output.shape) # (26, 26, 8)"
   ]
  },
  {
   "cell_type": "markdown",
   "metadata": {
    "colab_type": "text",
    "id": "AdjGK371cWcy"
   },
   "source": [
    "<i>Note: in our Conv3x3 implementation, we assume the input is a <b>2d</b> numpy array for simplicity, because that’s how our MNIST images are stored. This works for us because we use it as the first layer in our network, but most CNNs have many more Conv layers. If we were building a bigger network that needed to use Conv3x3 multiple times, we’d have to make the input be a <b>3d</b> numpy array.</i>"
   ]
  },
  {
   "cell_type": "markdown",
   "metadata": {
    "colab_type": "text",
    "id": "nJ7-BldFcbnP"
   },
   "source": [
    "## 4. Pooling\n",
    "\n",
    "Neighboring pixels in images tend to have similar values, so conv layers will typically also produce similar values for neighboring pixels in outputs. As a result, <b>much of the information contained in a conv layer’s output is redundant.</b> For example, if we use an edge-detecting filter and find a strong edge at a certain location, chances are that we’ll also find relatively strong edges at locations 1 pixel shifted from the original one. However, <b>these are all the same edge!</b> We’re not finding anything new.\n",
    "\n",
    "</br>\n",
    "\n",
    "Pooling layers solve this problem. All they do is reduce the size of the input it’s given by (you guessed it) pooling values together in the input. The pooling is usually done by a simple operation like $max$, $min$, or $average$. Here’s an example of a Max Pooling layer with a pooling size of 2:\n",
    "\n",
    "</br>\n",
    "\n",
    "![MaxPooling_4x4image_2x2output](./img/MaxPooling_4x4image_2x2output.png)\n",
    "\n",
    "</br>\n",
    "\n",
    "To perform max pooling, we traverse the input image in 2x2 blocks (because pool size = 2) and put the max value into the output image at the corresponding pixel. That’s it!\n",
    "\n",
    "</br>\n",
    "\n",
    "<b>Pooling divides the input’s width and height by the pool size.</b> For our MNIST CNN, we’ll place a Max Pooling layer with a pool size of 2 right after our initial conv layer. The pooling layer will transform a 26x26x8 input into a 13x13x8 output:\n",
    "\n",
    "</br>\n",
    "\n",
    "![26x26x8input_to_13x13x8output](./img/26x26x8input_to_13x13x8output.png)\n",
    "\n",
    "</br>\n",
    "\n",
    "### 4.1 Implementing Pooling\n",
    "\n",
    "We’ll implement a $MaxPool2$ class with the same methods as our conv class from the previous section:"
   ]
  },
  {
   "cell_type": "code",
   "execution_count": 4,
   "metadata": {
    "colab": {},
    "colab_type": "code",
    "id": "QRJV6J4QPQzl"
   },
   "outputs": [],
   "source": [
    "class MaxPool2:\n",
    "    # A Max Pooling layer using a pool size of 2.\n",
    "\n",
    "    def iterate_regions(self, image):\n",
    "        '''\n",
    "        Generates non-overlapping 2x2 image regions to pool over.\n",
    "        - image is a 2d numpy array\n",
    "        '''\n",
    "        h, w, _ = image.shape\n",
    "        new_h = h // 2\n",
    "        new_w = w // 2\n",
    "\n",
    "        for i in range(new_h):\n",
    "            for j in range(new_w):\n",
    "                im_region = image[(i * 2):(i * 2 + 2), (j * 2):(j * 2 + 2)]\n",
    "                yield im_region, i, j\n",
    "\n",
    "    def forward(self, input):\n",
    "        '''\n",
    "        Performs a forward pass of the maxpool layer using the given input.\n",
    "        Returns a 3d numpy array with dimensions (h / 2, w / 2, num_filters).\n",
    "        - input is a 3d numpy array with dimensions (h, w, num_filters)\n",
    "        '''\n",
    "        h, w, num_filters = input.shape\n",
    "        output = np.zeros((h // 2, w // 2, num_filters))\n",
    "\n",
    "        for im_region, i, j in self.iterate_regions(input):\n",
    "            output[i, j] = np.amax(im_region, axis=(0, 1))\n",
    "\n",
    "        return output"
   ]
  },
  {
   "cell_type": "markdown",
   "metadata": {
    "colab_type": "text",
    "id": "p5vOjfmi21Z2"
   },
   "source": [
    "This class works similarly to the <i>Conv3x3</i> class we implemented previously. The critical line is again highlighted: to find the max from a given image region, we use np.amax(), numpy’s array max method. We set <i>axis=(0, 1)</i> because we only want to maximize over the first two dimensions, height and width, and not the third, <i>num_filters</i>."
   ]
  },
  {
   "cell_type": "code",
   "execution_count": 5,
   "metadata": {
    "colab": {
     "base_uri": "https://localhost:8080/",
     "height": 34
    },
    "colab_type": "code",
    "id": "TOU6_yJds6xH",
    "outputId": "b961e565-f827-4f10-ca13-61af914c76b9"
   },
   "outputs": [
    {
     "name": "stdout",
     "output_type": "stream",
     "text": [
      "(13, 13, 8)\n"
     ]
    }
   ],
   "source": [
    "# The mnist package handles the MNIST dataset for us!\n",
    "# Learn more at https://github.com/datapythonista/mnist\n",
    "train_images = mnist.train_images()\n",
    "train_labels = mnist.train_labels()\n",
    "\n",
    "conv = Conv3x3(8)\n",
    "pool = MaxPool2()\n",
    "\n",
    "output = conv.forward(train_images[0])\n",
    "output = pool.forward(output)\n",
    "print(output.shape) # (13, 13, 8)"
   ]
  },
  {
   "cell_type": "markdown",
   "metadata": {
    "colab_type": "text",
    "id": "m3jyUbgQtKvA"
   },
   "source": [
    "## 5. Softmax\n",
    "\n",
    "To complete our CNN, we need to give it the ability to actually make predictions. We’ll do that by using the standard final layer for a multiclass classification problem: the <b>Softmax</b> layer, a fully-connected (dense) layer that uses the <b>Softmax function</b> as its activation.\n",
    "\n",
    "</br>\n",
    "\n",
    "<i>Reminder: fully-connected layers have every node connected to every output from the previous layer.\n",
    "</i>\n",
    "\n",
    "</br>\n",
    "\n",
    "If you haven’t heard of Softmax before, read my quick introduction to Softmax before continuing.\n",
    "\n",
    "### 5.1 Usage\n",
    "\n",
    "We’ll use a softmax layer with <b>10 nodes, one representing each digit</b>, as the final layer in our CNN. Each node in the layer will be connected to every input. After the softmax transformation is applied, <b>the digit represented by the node with the highest probability</b> will be the output of the CNN!\n",
    "\n",
    "</br>\n",
    "\n",
    "![28x28inpup_10softmaxoutput](./img/28x28inpup_10softmaxoutput.png)\n",
    "\n",
    "</br>\n",
    "\n"
   ]
  },
  {
   "cell_type": "markdown",
   "metadata": {
    "colab_type": "text",
    "id": "Ft4ghY2B5cvE"
   },
   "source": [
    "### 5.2 Cross-Entropy Loss\n",
    "\n",
    "You might have just thought to yourself, why bother transforming the outputs into probabilities? Won’t the highest output value always have the highest probability? If you did, you’re absolutely right. <b>We don’t actually need to use softmax to predict a digit </b>- we could just pick the digit with the highest output from the network!\n",
    "\n",
    "</br>\n",
    "\n",
    "What softmax really does is help us <b>quantify how sure we are of our prediction</b>, which is useful when training and evaluating our CNN. More specifically, using softmax lets us use <b>cross-entropy loss</b>, which takes into account how sure we are of each prediction. Here’s how we calculate cross-entropy loss:\n",
    "\n",
    "</br>\n",
    "\n",
    "$L = - \\ln(p_{c})$\n",
    "\n",
    "</br>\n",
    "\n",
    "where $c$ is the correct class (in our case, the correct digit), $p_{c}$\n",
    "  is the predicted probability for class $c$, and $ln$ is the natural log. As always, a lower loss is better. For example, in the best case, we’d have\n",
    "  \n",
    "  </br>\n",
    "  \n",
    "  $p_{c} = 1, L = - \\ln(1) = 0$\n",
    "  \n",
    "  </br>\n",
    "  \n",
    "  In a more realistic case, we might have\n",
    "  \n",
    "   </br>\n",
    "   \n",
    "   $p_{c} = 0.8, L = - \\ln(0.8) = 0.223$\n",
    "   \n",
    "  </br>\n",
    "    \n",
    " We’ll be seeing cross-entropy loss again later on in this post, so keep it in mind!\n",
    "\n",
    "### 5.3 Implementing Softmax\n",
    "\n",
    "Let’s implement a Softmax layer class:\n",
    "\n"
   ]
  },
  {
   "cell_type": "code",
   "execution_count": 6,
   "metadata": {
    "colab": {},
    "colab_type": "code",
    "id": "Ldslw6WotHBW"
   },
   "outputs": [],
   "source": [
    "class Softmax:\n",
    "    # A standard fully-connected layer with softmax activation.\n",
    "\n",
    "    def __init__(self, input_len, nodes):\n",
    "        # We divide by input_len to reduce the variance of our initial values\n",
    "        self.weights = np.random.randn(input_len, nodes) / input_len\n",
    "        self.biases = np.zeros(nodes)\n",
    "\n",
    "    def forward(self, input):\n",
    "        '''\n",
    "        Performs a forward pass of the softmax layer using the given input.\n",
    "        Returns a 1d numpy array containing the respective probability values.\n",
    "        - input can be any array with any dimensions.\n",
    "        '''\n",
    "        input = input.flatten()\n",
    "\n",
    "        input_len, nodes = self.weights.shape\n",
    "\n",
    "        totals = np.dot(input, self.weights) + self.biases\n",
    "        exp = np.exp(totals)\n",
    "        return exp / np.sum(exp, axis=0)"
   ]
  },
  {
   "cell_type": "markdown",
   "metadata": {
    "colab_type": "text",
    "id": "CyfZ1nrs8IXK"
   },
   "source": [
    "There’s nothing too complicated here. A few highlights:\n",
    "\n",
    "</br>\n",
    "\n",
    "* We flatten() the input to make it easier to work with, since we no longer need its shape.\n",
    "* np.dot() multiplies $input$ and $self.weights$ element-wise and then sums the results.\n",
    "* np.exp() calculates the exponentials used for Softmax.\n",
    "\n",
    "\n",
    "</br>\n",
    "\n",
    "We’ve now completed the entire forward pass of our CNN! Putting it together:"
   ]
  },
  {
   "cell_type": "code",
   "execution_count": 7,
   "metadata": {
    "colab": {
     "base_uri": "https://localhost:8080/",
     "height": 204
    },
    "colab_type": "code",
    "id": "CPbM9X8ztc4M",
    "outputId": "f2c75c20-7d71-4cf6-a487-59923a528be7"
   },
   "outputs": [
    {
     "name": "stdout",
     "output_type": "stream",
     "text": [
      "MNIST CNN initialized!\n",
      "[Step 100] Past 100 steps: Average Loss 2.302 | Accuracy: 9%\n",
      "[Step 200] Past 100 steps: Average Loss 2.301 | Accuracy: 14%\n",
      "[Step 300] Past 100 steps: Average Loss 2.302 | Accuracy: 8%\n",
      "[Step 400] Past 100 steps: Average Loss 2.302 | Accuracy: 13%\n",
      "[Step 500] Past 100 steps: Average Loss 2.301 | Accuracy: 9%\n",
      "[Step 600] Past 100 steps: Average Loss 2.302 | Accuracy: 12%\n",
      "[Step 700] Past 100 steps: Average Loss 2.302 | Accuracy: 12%\n",
      "[Step 800] Past 100 steps: Average Loss 2.302 | Accuracy: 11%\n",
      "[Step 900] Past 100 steps: Average Loss 2.303 | Accuracy: 10%\n",
      "[Step 1000] Past 100 steps: Average Loss 2.302 | Accuracy: 9%\n"
     ]
    }
   ],
   "source": [
    "# We only use the first 1k testing examples (out of 10k total)\n",
    "# in the interest of time. Feel free to change this if you want.\n",
    "test_images = mnist.test_images()[:1000]\n",
    "test_labels = mnist.test_labels()[:1000]\n",
    "\n",
    "conv = Conv3x3(8)                  # 28x28x1 -> 26x26x8\n",
    "pool = MaxPool2()                  # 26x26x8 -> 13x13x8\n",
    "softmax = Softmax(13 * 13 * 8, 10) # 13x13x8 -> 10\n",
    "\n",
    "def forward(image, label):\n",
    "    '''\n",
    "    Completes a forward pass of the CNN and calculates the accuracy and\n",
    "    cross-entropy loss.\n",
    "    - image is a 2d numpy array\n",
    "    - label is a digit\n",
    "    '''\n",
    "    # We transform the image from [0, 255] to [-0.5, 0.5] to make it easier\n",
    "    # to work with. This is standard practice.\n",
    "    out = conv.forward((image / 255) - 0.5)\n",
    "    out = pool.forward(out)\n",
    "    out = softmax.forward(out)\n",
    "\n",
    "    # Calculate cross-entropy loss and accuracy. np.log() is the natural log.\n",
    "    loss = -np.log(out[label])\n",
    "    acc = 1 if np.argmax(out) == label else 0\n",
    "\n",
    "    return out, loss, acc\n",
    "\n",
    "print('MNIST CNN initialized!')\n",
    "\n",
    "loss = 0\n",
    "num_correct = 0\n",
    "for i, (im, label) in enumerate(zip(test_images, test_labels)):\n",
    "    # Do a forward pass.\n",
    "    _, l, acc = forward(im, label)\n",
    "    loss += l\n",
    "    num_correct += acc\n",
    "\n",
    "    # Print stats every 100 steps.\n",
    "    if i % 100 == 99:\n",
    "        print(\n",
    "          '[Step %d] Past 100 steps: Average Loss %.3f | Accuracy: %d%%' %\n",
    "          (i + 1, loss / 100, num_correct)\n",
    "        )\n",
    "        loss = 0\n",
    "        num_correct = 0"
   ]
  },
  {
   "cell_type": "markdown",
   "metadata": {
    "colab_type": "text",
    "id": "4WBQVrDo-DJ0"
   },
   "source": [
    "## 6. Conclusion\n",
    "\n",
    "That’s the end of this introduction to CNNs! In this post, we\n",
    "\n",
    "</br>\n",
    "\n",
    "* Motivated why CNNs might be more useful for certain problems, like image classification.\n",
    "* Introduced the <b>MNIST</b> handwritten digit dataset.\n",
    "* Learned about <b>Conv layers</b>, which convolve filters with images to produce more useful outputs.\n",
    "* Talked about <b>Pooling layers</b>, which can help prune everything but the most useful features.\n",
    "* Implemented a <b>Softmax</b> layer so we could use <b>cross-entropy loss</b>.\n",
    "\n",
    "</br>\n",
    "\n",
    "There’s still much more that we haven’t covered yet, such as how to actually train a CNN. <b>Part 2 of this CNN series does a deep-dive on training a CNN</b>, including deriving gradients and implementing backprop.\n",
    "\n",
    "</br>\n",
    "\n",
    "If you’re eager to see a trained CNN in action: [this example Keras CNN](https://keras.io/examples/mnist_cnn/) trained on MNIST achieves <b>99.25%</b> accuracy. CNNs are powerful!"
   ]
  },
  {
   "cell_type": "code",
   "execution_count": 8,
   "metadata": {},
   "outputs": [],
   "source": [
    "# !pip install keras tensorflow"
   ]
  },
  {
   "cell_type": "code",
   "execution_count": 9,
   "metadata": {
    "colab": {},
    "colab_type": "code",
    "id": "kwtuYZRPAQmj",
    "scrolled": true
   },
   "outputs": [
    {
     "name": "stderr",
     "output_type": "stream",
     "text": [
      "Using TensorFlow backend.\n",
      "/home/oleksandr/.virtualenvs/hlll_course/lib/python3.6/site-packages/tensorflow/python/framework/dtypes.py:516: FutureWarning: Passing (type, 1) or '1type' as a synonym of type is deprecated; in a future version of numpy, it will be understood as (type, (1,)) / '(1,)type'.\n",
      "  _np_qint8 = np.dtype([(\"qint8\", np.int8, 1)])\n",
      "/home/oleksandr/.virtualenvs/hlll_course/lib/python3.6/site-packages/tensorflow/python/framework/dtypes.py:517: FutureWarning: Passing (type, 1) or '1type' as a synonym of type is deprecated; in a future version of numpy, it will be understood as (type, (1,)) / '(1,)type'.\n",
      "  _np_quint8 = np.dtype([(\"quint8\", np.uint8, 1)])\n",
      "/home/oleksandr/.virtualenvs/hlll_course/lib/python3.6/site-packages/tensorflow/python/framework/dtypes.py:518: FutureWarning: Passing (type, 1) or '1type' as a synonym of type is deprecated; in a future version of numpy, it will be understood as (type, (1,)) / '(1,)type'.\n",
      "  _np_qint16 = np.dtype([(\"qint16\", np.int16, 1)])\n",
      "/home/oleksandr/.virtualenvs/hlll_course/lib/python3.6/site-packages/tensorflow/python/framework/dtypes.py:519: FutureWarning: Passing (type, 1) or '1type' as a synonym of type is deprecated; in a future version of numpy, it will be understood as (type, (1,)) / '(1,)type'.\n",
      "  _np_quint16 = np.dtype([(\"quint16\", np.uint16, 1)])\n",
      "/home/oleksandr/.virtualenvs/hlll_course/lib/python3.6/site-packages/tensorflow/python/framework/dtypes.py:520: FutureWarning: Passing (type, 1) or '1type' as a synonym of type is deprecated; in a future version of numpy, it will be understood as (type, (1,)) / '(1,)type'.\n",
      "  _np_qint32 = np.dtype([(\"qint32\", np.int32, 1)])\n",
      "/home/oleksandr/.virtualenvs/hlll_course/lib/python3.6/site-packages/tensorflow/python/framework/dtypes.py:525: FutureWarning: Passing (type, 1) or '1type' as a synonym of type is deprecated; in a future version of numpy, it will be understood as (type, (1,)) / '(1,)type'.\n",
      "  np_resource = np.dtype([(\"resource\", np.ubyte, 1)])\n",
      "/home/oleksandr/.virtualenvs/hlll_course/lib/python3.6/site-packages/tensorboard/compat/tensorflow_stub/dtypes.py:541: FutureWarning: Passing (type, 1) or '1type' as a synonym of type is deprecated; in a future version of numpy, it will be understood as (type, (1,)) / '(1,)type'.\n",
      "  _np_qint8 = np.dtype([(\"qint8\", np.int8, 1)])\n",
      "/home/oleksandr/.virtualenvs/hlll_course/lib/python3.6/site-packages/tensorboard/compat/tensorflow_stub/dtypes.py:542: FutureWarning: Passing (type, 1) or '1type' as a synonym of type is deprecated; in a future version of numpy, it will be understood as (type, (1,)) / '(1,)type'.\n",
      "  _np_quint8 = np.dtype([(\"quint8\", np.uint8, 1)])\n",
      "/home/oleksandr/.virtualenvs/hlll_course/lib/python3.6/site-packages/tensorboard/compat/tensorflow_stub/dtypes.py:543: FutureWarning: Passing (type, 1) or '1type' as a synonym of type is deprecated; in a future version of numpy, it will be understood as (type, (1,)) / '(1,)type'.\n",
      "  _np_qint16 = np.dtype([(\"qint16\", np.int16, 1)])\n",
      "/home/oleksandr/.virtualenvs/hlll_course/lib/python3.6/site-packages/tensorboard/compat/tensorflow_stub/dtypes.py:544: FutureWarning: Passing (type, 1) or '1type' as a synonym of type is deprecated; in a future version of numpy, it will be understood as (type, (1,)) / '(1,)type'.\n",
      "  _np_quint16 = np.dtype([(\"quint16\", np.uint16, 1)])\n",
      "/home/oleksandr/.virtualenvs/hlll_course/lib/python3.6/site-packages/tensorboard/compat/tensorflow_stub/dtypes.py:545: FutureWarning: Passing (type, 1) or '1type' as a synonym of type is deprecated; in a future version of numpy, it will be understood as (type, (1,)) / '(1,)type'.\n",
      "  _np_qint32 = np.dtype([(\"qint32\", np.int32, 1)])\n",
      "/home/oleksandr/.virtualenvs/hlll_course/lib/python3.6/site-packages/tensorboard/compat/tensorflow_stub/dtypes.py:550: FutureWarning: Passing (type, 1) or '1type' as a synonym of type is deprecated; in a future version of numpy, it will be understood as (type, (1,)) / '(1,)type'.\n",
      "  np_resource = np.dtype([(\"resource\", np.ubyte, 1)])\n"
     ]
    },
    {
     "name": "stdout",
     "output_type": "stream",
     "text": [
      "x_train shape: (60000, 28, 28, 1)\n",
      "60000 train samples\n",
      "10000 test samples\n"
     ]
    }
   ],
   "source": [
    " from __future__ import print_function\n",
    "import keras\n",
    "from keras.datasets import mnist\n",
    "from keras.models import Sequential\n",
    "from keras.layers import Dense, Dropout, Flatten\n",
    "from keras.layers import Conv2D, MaxPooling2D\n",
    "from keras import backend as K\n",
    "\n",
    "batch_size = 128\n",
    "num_classes = 10\n",
    "epochs = 12\n",
    "\n",
    "# input image dimensions\n",
    "img_rows, img_cols = 28, 28\n",
    "\n",
    "# the data, split between train and test sets\n",
    "(x_train, y_train), (x_test, y_test) = mnist.load_data()\n",
    "\n",
    "if K.image_data_format() == 'channels_first':\n",
    "    x_train = x_train.reshape(x_train.shape[0], 1, img_rows, img_cols)\n",
    "    x_test = x_test.reshape(x_test.shape[0], 1, img_rows, img_cols)\n",
    "    input_shape = (1, img_rows, img_cols)\n",
    "else:\n",
    "    x_train = x_train.reshape(x_train.shape[0], img_rows, img_cols, 1)\n",
    "    x_test = x_test.reshape(x_test.shape[0], img_rows, img_cols, 1)\n",
    "    input_shape = (img_rows, img_cols, 1)\n",
    "\n",
    "x_train = x_train.astype('float32')\n",
    "x_test = x_test.astype('float32')\n",
    "x_train /= 255\n",
    "x_test /= 255\n",
    "print('x_train shape:', x_train.shape)\n",
    "print(x_train.shape[0], 'train samples')\n",
    "print(x_test.shape[0], 'test samples')\n",
    "\n",
    "# convert class vectors to binary class matrices\n",
    "y_train = keras.utils.to_categorical(y_train, num_classes)\n",
    "y_test = keras.utils.to_categorical(y_test, num_classes)\n",
    "\n"
   ]
  },
  {
   "cell_type": "code",
   "execution_count": 10,
   "metadata": {},
   "outputs": [
    {
     "name": "stderr",
     "output_type": "stream",
     "text": [
      "WARNING: Logging before flag parsing goes to stderr.\n",
      "W0810 10:32:52.360300 139626599339840 deprecation_wrapper.py:119] From /home/oleksandr/.virtualenvs/hlll_course/lib/python3.6/site-packages/keras/backend/tensorflow_backend.py:74: The name tf.get_default_graph is deprecated. Please use tf.compat.v1.get_default_graph instead.\n",
      "\n",
      "W0810 10:32:52.383080 139626599339840 deprecation_wrapper.py:119] From /home/oleksandr/.virtualenvs/hlll_course/lib/python3.6/site-packages/keras/backend/tensorflow_backend.py:517: The name tf.placeholder is deprecated. Please use tf.compat.v1.placeholder instead.\n",
      "\n",
      "W0810 10:32:52.387554 139626599339840 deprecation_wrapper.py:119] From /home/oleksandr/.virtualenvs/hlll_course/lib/python3.6/site-packages/keras/backend/tensorflow_backend.py:4138: The name tf.random_uniform is deprecated. Please use tf.random.uniform instead.\n",
      "\n",
      "W0810 10:32:52.461363 139626599339840 deprecation_wrapper.py:119] From /home/oleksandr/.virtualenvs/hlll_course/lib/python3.6/site-packages/keras/backend/tensorflow_backend.py:3976: The name tf.nn.max_pool is deprecated. Please use tf.nn.max_pool2d instead.\n",
      "\n",
      "W0810 10:32:52.464656 139626599339840 deprecation_wrapper.py:119] From /home/oleksandr/.virtualenvs/hlll_course/lib/python3.6/site-packages/keras/backend/tensorflow_backend.py:133: The name tf.placeholder_with_default is deprecated. Please use tf.compat.v1.placeholder_with_default instead.\n",
      "\n",
      "W0810 10:32:52.483607 139626599339840 deprecation.py:506] From /home/oleksandr/.virtualenvs/hlll_course/lib/python3.6/site-packages/keras/backend/tensorflow_backend.py:3445: calling dropout (from tensorflow.python.ops.nn_ops) with keep_prob is deprecated and will be removed in a future version.\n",
      "Instructions for updating:\n",
      "Please use `rate` instead of `keep_prob`. Rate should be set to `rate = 1 - keep_prob`.\n",
      "W0810 10:32:52.590686 139626599339840 deprecation_wrapper.py:119] From /home/oleksandr/.virtualenvs/hlll_course/lib/python3.6/site-packages/keras/optimizers.py:790: The name tf.train.Optimizer is deprecated. Please use tf.compat.v1.train.Optimizer instead.\n",
      "\n",
      "W0810 10:32:52.602957 139626599339840 deprecation_wrapper.py:119] From /home/oleksandr/.virtualenvs/hlll_course/lib/python3.6/site-packages/keras/backend/tensorflow_backend.py:3295: The name tf.log is deprecated. Please use tf.math.log instead.\n",
      "\n"
     ]
    },
    {
     "name": "stdout",
     "output_type": "stream",
     "text": [
      "_________________________________________________________________\n",
      "Layer (type)                 Output Shape              Param #   \n",
      "=================================================================\n",
      "conv2d_1 (Conv2D)            (None, 26, 26, 32)        320       \n",
      "_________________________________________________________________\n",
      "conv2d_2 (Conv2D)            (None, 24, 24, 64)        18496     \n",
      "_________________________________________________________________\n",
      "max_pooling2d_1 (MaxPooling2 (None, 12, 12, 64)        0         \n",
      "_________________________________________________________________\n",
      "dropout_1 (Dropout)          (None, 12, 12, 64)        0         \n",
      "_________________________________________________________________\n",
      "flatten_1 (Flatten)          (None, 9216)              0         \n",
      "_________________________________________________________________\n",
      "dense_1 (Dense)              (None, 128)               1179776   \n",
      "_________________________________________________________________\n",
      "dropout_2 (Dropout)          (None, 128)               0         \n",
      "_________________________________________________________________\n",
      "dense_2 (Dense)              (None, 10)                1290      \n",
      "=================================================================\n",
      "Total params: 1,199,882\n",
      "Trainable params: 1,199,882\n",
      "Non-trainable params: 0\n",
      "_________________________________________________________________\n"
     ]
    }
   ],
   "source": [
    "model = Sequential()\n",
    "model.add(Conv2D(32, kernel_size=(3, 3),\n",
    "                 activation='relu',\n",
    "                 input_shape=input_shape))\n",
    "model.add(Conv2D(64, (3, 3), activation='relu'))\n",
    "model.add(MaxPooling2D(pool_size=(2, 2)))\n",
    "model.add(Dropout(0.25))\n",
    "model.add(Flatten())\n",
    "model.add(Dense(128, activation='relu'))\n",
    "model.add(Dropout(0.5))\n",
    "model.add(Dense(num_classes, activation='softmax'))\n",
    "\n",
    "model.compile(loss=keras.losses.categorical_crossentropy,\n",
    "              optimizer=keras.optimizers.Adadelta(),\n",
    "              metrics=['accuracy'])\n",
    "model.summary()\n"
   ]
  },
  {
   "cell_type": "code",
   "execution_count": 12,
   "metadata": {},
   "outputs": [],
   "source": [
    "model.fit(x_train, y_train,\n",
    "          batch_size=batch_size,\n",
    "          epochs=epochs,\n",
    "          verbose=1,\n",
    "          validation_data=(x_test, y_test))\n"
   ]
  },
  {
   "cell_type": "code",
   "execution_count": null,
   "metadata": {},
   "outputs": [],
   "source": [
    "score = model.evaluate(x_test, y_test, verbose=0)\n",
    "print('Test loss:', score[0])\n",
    "print('Test accuracy:', score[1])"
   ]
  },
  {
   "cell_type": "code",
   "execution_count": null,
   "metadata": {},
   "outputs": [],
   "source": []
  }
 ],
 "metadata": {
  "colab": {
   "name": "CNNs.ipynb",
   "provenance": [],
   "version": "0.3.2"
  },
  "kernelspec": {
   "display_name": "Python 3",
   "language": "python",
   "name": "python3"
  },
  "language_info": {
   "codemirror_mode": {
    "name": "ipython",
    "version": 3
   },
   "file_extension": ".py",
   "mimetype": "text/x-python",
   "name": "python",
   "nbconvert_exporter": "python",
   "pygments_lexer": "ipython3",
   "version": "3.6.7"
  }
 },
 "nbformat": 4,
 "nbformat_minor": 1
}
